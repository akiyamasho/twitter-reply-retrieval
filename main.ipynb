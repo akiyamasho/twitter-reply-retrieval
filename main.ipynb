{
 "cells": [
  {
   "cell_type": "markdown",
   "metadata": {},
   "source": [
    "### Setup"
   ]
  },
  {
   "cell_type": "code",
   "execution_count": null,
   "metadata": {},
   "outputs": [],
   "source": [
    "%load_ext autoreload\n",
    "%autoreload 2"
   ]
  },
  {
   "cell_type": "code",
   "execution_count": null,
   "metadata": {},
   "outputs": [],
   "source": [
    "import requests\n",
    "import os\n",
    "import csv\n",
    "\n",
    "import pandas as pd\n",
    "\n",
    "from datetime import datetime\n",
    "from dotenv import load_dotenv\n",
    "from random import randint\n",
    "from time import sleep"
   ]
  },
  {
   "cell_type": "code",
   "execution_count": null,
   "metadata": {},
   "outputs": [],
   "source": [
    "load_dotenv(dotenv_path=\".env\")"
   ]
  },
  {
   "cell_type": "code",
   "execution_count": null,
   "metadata": {},
   "outputs": [],
   "source": [
    "BEARER_TOKEN = os.environ.get(\"BEARER_TOKEN\")\n",
    "MAYU_USER_ID = \"1574902811703541760\"\n",
    "\n",
    "OUTPUT_FOLDER=\"out\"\n",
    "TODAY_DT = datetime.today().strftime(\"%Y%m%d\")\n",
    "CONV_ID_CSV_FILE = f\"conversationId_{TODAY_DT}.csv\""
   ]
  },
  {
   "cell_type": "code",
   "execution_count": null,
   "metadata": {},
   "outputs": [],
   "source": [
    "if not os.path.exists(OUTPUT_FOLDER):\n",
    "    os.mkdir(OUTPUT_FOLDER)"
   ]
  },
  {
   "cell_type": "markdown",
   "metadata": {},
   "source": [
    "### Twitter API Methods"
   ]
  },
  {
   "cell_type": "code",
   "execution_count": 37,
   "metadata": {},
   "outputs": [],
   "source": [
    "def create_tweet_retrieval_url(user_id):\n",
    "    tweet_fields = \"tweet.fields=conversation_id,in_reply_to_user_id,entities\"\n",
    "    exclude_fields = \"exclude=retweets,replies\"\n",
    "    result_fields = \"max_results=100\"\n",
    "    \n",
    "    url = f\"https://api.twitter.com/2/users/{user_id}/tweets?{tweet_fields}&{exclude_fields}&{result_fields}\"\n",
    "    return url\n",
    "\n",
    "def bearer_oauth(r):\n",
    "    r.headers[\"Authorization\"] = f\"Bearer {BEARER_TOKEN}\"\n",
    "    r.headers[\"User-Agent\"] = \"v2TweetLookupPython\"\n",
    "    return r\n",
    "\n",
    "def connect_to_endpoint(url):\n",
    "    response = requests.request(\"GET\", url, auth=bearer_oauth)\n",
    "    print(response.status_code)\n",
    "    if response.status_code != 200:\n",
    "        raise Exception(\n",
    "            \"Request returned an error: {} {}\".format(\n",
    "                response.status_code, response.text\n",
    "            )\n",
    "        )\n",
    "    return response.json()\n",
    "\n",
    "def get_tweets(user_id):\n",
    "    url = create_tweet_retrieval_url(user_id=user_id)\n",
    "    json_response = connect_to_endpoint(url)\n",
    "\n",
    "    return json_response"
   ]
  },
  {
   "cell_type": "markdown",
   "metadata": {},
   "source": [
    "### Retrieve Main Tweets"
   ]
  },
  {
   "cell_type": "code",
   "execution_count": null,
   "metadata": {},
   "outputs": [],
   "source": [
    "main_tweets = get_tweets(user_id=MAYU_USER_ID)\n",
    "conv_ids = set([tweet[\"conversation_id\"] for tweet in main_tweets[\"data\"]])\n",
    "\n",
    "# backup\n",
    "with open(os.path.join(OUTPUT_FOLDER, CONV_ID_CSV_FILE), \"w\", newline=\"\") as myfile:\n",
    "    wr = csv.writer(myfile, quoting=csv.QUOTE_ALL)\n",
    "    wr.writerow(conv_ids)\n"
   ]
  },
  {
   "cell_type": "markdown",
   "metadata": {},
   "source": [
    "### Retrieve Replies"
   ]
  },
  {
   "cell_type": "code",
   "execution_count": null,
   "metadata": {},
   "outputs": [],
   "source": [
    "# Note that this can only retrieve replies from the past 7 days\n",
    "\n",
    "count = 0\n",
    "\n",
    "for conv_id in conv_ids:\n",
    "    output_file_path = os.path.join(OUTPUT_FOLDER, f\"{conv_id}_replies.json\")\n",
    "    !twarc2 conversation {conv_id} > {output_file_path}\n",
    "    count = count + 1\n",
    "    print(f\"Completed {count}/{len(conv_ids)}\")\n",
    "    sleep(randint(5,15))"
   ]
  }
 ],
 "metadata": {
  "kernelspec": {
   "display_name": "Python 3.9.10 ('pytorch')",
   "language": "python",
   "name": "python3"
  },
  "language_info": {
   "codemirror_mode": {
    "name": "ipython",
    "version": 3
   },
   "file_extension": ".py",
   "mimetype": "text/x-python",
   "name": "python",
   "nbconvert_exporter": "python",
   "pygments_lexer": "ipython3",
   "version": "3.9.10"
  },
  "orig_nbformat": 4,
  "vscode": {
   "interpreter": {
    "hash": "a25dedf5565bb17653ba8b2aef5c5741aca2aacdb1af8c7c8d6800220f3a97ff"
   }
  }
 },
 "nbformat": 4,
 "nbformat_minor": 2
}
